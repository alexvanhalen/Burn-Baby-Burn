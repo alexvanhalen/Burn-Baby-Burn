{
 "cells": [
  {
   "cell_type": "code",
   "execution_count": 1,
   "metadata": {},
   "outputs": [
    {
     "data": {
      "text/plain": [
       "3.0"
      ]
     },
     "execution_count": 1,
     "metadata": {},
     "output_type": "execute_result"
    }
   ],
   "source": [
    "from scipy import stats\n",
    "from scipy import optimize\n",
    "import numpy as np\n",
    "import matplotlib.pyplot as plt\n",
    "import seaborn as sns\n",
    "\n",
    "sns.set(style=\"whitegrid\")\n",
    "\n",
    "x=np.array([3.5, 1.1, 3.2, 2.8, 6.7, 4.4, 0.9, 2.2])\n",
    "np.mean(x)\n",
    "np.median(x)\n"
   ]
  },
  {
   "cell_type": "code",
   "execution_count": 2,
   "metadata": {},
   "outputs": [
    {
     "data": {
      "text/plain": [
       "(0.9, 6.7)"
      ]
     },
     "execution_count": 2,
     "metadata": {},
     "output_type": "execute_result"
    }
   ],
   "source": [
    "x.min(), x.max()"
   ]
  },
  {
   "cell_type": "code",
   "execution_count": 3,
   "metadata": {},
   "outputs": [
    {
     "data": {
      "text/plain": [
       "3.0700000000000007"
      ]
     },
     "execution_count": 3,
     "metadata": {},
     "output_type": "execute_result"
    }
   ],
   "source": [
    "x.var()"
   ]
  },
  {
   "cell_type": "code",
   "execution_count": 4,
   "metadata": {},
   "outputs": [
    {
     "data": {
      "text/plain": [
       "1.7521415467935233"
      ]
     },
     "execution_count": 4,
     "metadata": {},
     "output_type": "execute_result"
    }
   ],
   "source": [
    "x.std()"
   ]
  },
  {
   "cell_type": "code",
   "execution_count": 5,
   "metadata": {},
   "outputs": [
    {
     "data": {
      "text/plain": [
       "3.5085714285714293"
      ]
     },
     "execution_count": 5,
     "metadata": {},
     "output_type": "execute_result"
    }
   ],
   "source": [
    "x.var(ddof=1)"
   ]
  },
  {
   "cell_type": "code",
   "execution_count": 6,
   "metadata": {},
   "outputs": [
    {
     "data": {
      "text/plain": [
       "1.8731181032095732"
      ]
     },
     "execution_count": 6,
     "metadata": {},
     "output_type": "execute_result"
    }
   ],
   "source": [
    "x.std(ddof=1)"
   ]
  },
  {
   "cell_type": "code",
   "execution_count": 15,
   "metadata": {},
   "outputs": [],
   "source": [
    "from sympy import init_printing\n",
    "from sympy import *\n",
    "from sympy.stats import Normal, density, E, std, cdf, skewness\n",
    "\n",
    "init_printing()\n",
    "x, y, z=symbols(\"x y z\")"
   ]
  },
  {
   "cell_type": "code",
   "execution_count": 13,
   "metadata": {},
   "outputs": [
    {
     "data": {
      "image/png": "[encoded data removed]",
      "text/latex": [
       "$$\\left(\\frac{e^{x}}{y!}\\right)^{z}$$"
      ],
      "text/plain": [
       "    z\n",
       "⎛ x⎞ \n",
       "⎜ℯ ⎟ \n",
       "⎜──⎟ \n",
       "⎝y!⎠ "
      ]
     },
     "execution_count": 13,
     "metadata": {},
     "output_type": "execute_result"
    }
   ],
   "source": [
    "(exp(x)/factorial(y))**z"
   ]
  },
  {
   "cell_type": "code",
   "execution_count": 16,
   "metadata": {},
   "outputs": [],
   "source": [
    "mu = Symbol(\"mu\")\n",
    "sigma = Symbol(\"sigma\", positive=True)\n",
    "z = Symbol(\"z\")\n",
    "X = Normal(\"x\", mu, sigma)"
   ]
  },
  {
   "cell_type": "code",
   "execution_count": 18,
   "metadata": {},
   "outputs": [
    {
     "data": {
      "image/png": "[encoded data removed]",
      "text/latex": [
       "$$\\frac{\\sqrt{2}}{2 \\sqrt{\\pi} \\sigma} e^{- \\frac{\\left(- \\mu + z\\right)^{2}}{2 \\sigma^{2}}}$$"
      ],
      "text/plain": [
       "             2 \n",
       "    -(-μ + z)  \n",
       "    ───────────\n",
       "           2   \n",
       "        2⋅σ    \n",
       "√2⋅ℯ           \n",
       "───────────────\n",
       "     2⋅√π⋅σ    "
      ]
     },
     "execution_count": 18,
     "metadata": {},
     "output_type": "execute_result"
    }
   ],
   "source": [
    "density(X)(z)"
   ]
  },
  {
   "cell_type": "code",
   "execution_count": 20,
   "metadata": {},
   "outputs": [
    {
     "data": {
      "image/png": "[encoded data removed]",
      "text/latex": [
       "$$- \\frac{\\sqrt{2} \\sigma e^{- \\frac{\\mu^{2}}{2 \\sigma^{2}} + \\frac{\\mu z}{\\sigma^{2}} - \\frac{z^{2}}{2 \\sigma^{2}}}}{2 \\pi z \\left(- \\frac{\\mu}{z} + 1\\right)} \\left(- \\frac{\\sqrt{2} \\pi z}{2 \\sigma} \\left(- \\frac{\\mu}{z} + 1\\right) e^{\\frac{z^{2}}{2 \\sigma^{2}} \\left(- \\frac{\\mu}{z} + 1\\right)^{2}} \\operatorname{erf}{\\left (\\frac{\\sqrt{2} z}{2 \\sigma} \\left(- \\frac{\\mu}{z} + 1\\right) \\right )} - \\frac{\\sqrt{2} \\pi z}{2 \\sigma} \\left(- \\frac{\\mu}{z} + 1\\right) e^{\\frac{z^{2}}{2 \\sigma^{2}} \\left(- \\frac{\\mu}{z} + 1\\right)^{2}}\\right)$$"
      ],
      "text/plain": [
       "      ⎛                                2                                      \n",
       "      ⎜                     2 ⎛  μ    ⎞                                       \n",
       "      ⎜                    z ⋅⎜- ─ + 1⎟                                       \n",
       "      ⎜                       ⎝  z    ⎠                                       \n",
       "      ⎜                    ─────────────    ⎛     ⎛  μ    ⎞⎞                  \n",
       "      ⎜                            2        ⎜√2⋅z⋅⎜- ─ + 1⎟⎟                  \n",
       "      ⎜         ⎛  μ    ⎞       2⋅σ         ⎜     ⎝  z    ⎠⎟          ⎛  μ    \n",
       "      ⎜  √2⋅π⋅z⋅⎜- ─ + 1⎟⋅ℯ             ⋅erf⎜──────────────⎟   √2⋅π⋅z⋅⎜- ─ + 1\n",
       "      ⎜         ⎝  z    ⎠                   ⎝     2⋅σ      ⎠          ⎝  z    \n",
       "-√2⋅σ⋅⎜- ─────────────────────────────────────────────────── - ───────────────\n",
       "      ⎝                          2⋅σ                                         2\n",
       "──────────────────────────────────────────────────────────────────────────────\n",
       "                                                         ⎛  μ    ⎞            \n",
       "                                                   2⋅π⋅z⋅⎜- ─ + 1⎟            \n",
       "                                                         ⎝  z    ⎠            \n",
       "\n",
       "               2⎞                      \n",
       "    2 ⎛  μ    ⎞ ⎟                      \n",
       "   z ⋅⎜- ─ + 1⎟ ⎟                      \n",
       "      ⎝  z    ⎠ ⎟                      \n",
       "   ─────────────⎟      2            2  \n",
       "           2    ⎟     μ     μ⋅z    z   \n",
       "⎞       2⋅σ     ⎟  - ──── + ─── - ──── \n",
       "⎟⋅ℯ             ⎟       2     2      2 \n",
       "⎠               ⎟    2⋅σ     σ    2⋅σ  \n",
       "────────────────⎟⋅ℯ                    \n",
       "⋅σ              ⎠                      \n",
       "───────────────────────────────────────\n",
       "                                       \n",
       "                                       \n",
       "                                       "
      ]
     },
     "execution_count": 20,
     "metadata": {},
     "output_type": "execute_result"
    }
   ],
   "source": [
    "C=cdf(X)(z)"
   ]
  },
  {
   "cell_type": "code",
   "execution_count": 21,
   "metadata": {},
   "outputs": [
    {
     "data": {
      "image/png": "[encoded data removed]",
      "text/latex": [
       "$$- \\frac{1}{2} \\operatorname{erf}{\\left (\\frac{\\sqrt{2} \\left(\\mu - z\\right)}{2 \\sigma} \\right )} + \\frac{1}{2}$$"
      ],
      "text/plain": [
       "     ⎛√2⋅(μ - z)⎞    \n",
       "  erf⎜──────────⎟    \n",
       "     ⎝   2⋅σ    ⎠   1\n",
       "- ─────────────── + ─\n",
       "         2          2"
      ]
     },
     "execution_count": 21,
     "metadata": {},
     "output_type": "execute_result"
    }
   ],
   "source": [
    "simplify(C)"
   ]
  },
  {
   "cell_type": "code",
   "execution_count": null,
   "metadata": {},
   "outputs": [],
   "source": []
  }
 ],
 "metadata": {
  "kernelspec": {
   "display_name": "Python 3",
   "language": "python",
   "name": "python3"
  },
  "language_info": {
   "codemirror_mode": {
    "name": "ipython",
    "version": 3
   },
   "file_extension": ".py",
   "mimetype": "text/x-python",
   "name": "python",
   "nbconvert_exporter": "python",
   "pygments_lexer": "ipython3",
   "version": "3.6.3"
  }
 },
 "nbformat": 4,
 "nbformat_minor": 2
}
