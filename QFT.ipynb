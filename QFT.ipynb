{
  "nbformat": 4,
  "nbformat_minor": 0,
  "metadata": {
    "colab": {
      "name": "QFT.ipynb",
      "version": "0.3.2",
      "provenance": [],
      "include_colab_link": true
    },
    "kernelspec": {
      "name": "python3",
      "display_name": "Python 3"
    }
  },
  "cells": [
    {
      "cell_type": "markdown",
      "metadata": {
        "id": "view-in-github",
        "colab_type": "text"
      },
      "source": [
        "<a href=\"https://colab.research.google.com/github/alexvanhalen/Burn-Baby-Burn/blob/master/QFT.ipynb\" target=\"_parent\"><img src=\"https://colab.research.google.com/assets/colab-badge.svg\" alt=\"Open In Colab\"/></a>"
      ]
    },
    {
      "cell_type": "code",
      "metadata": {
        "id": "sT4shWzVJVlo",
        "colab_type": "code",
        "colab": {}
      },
      "source": [
        "!pip install qiskit\n"
      ],
      "execution_count": 0,
      "outputs": []
    },
    {
      "cell_type": "code",
      "metadata": {
        "id": "1uGB8GQfJku8",
        "colab_type": "code",
        "colab": {
          "base_uri": "https://localhost:8080/",
          "height": 1000
        },
        "outputId": "c2d779db-c6ea-40e7-863d-3233399c9d4d"
      },
      "source": [
        "##....... QFT _ FFT ......##\n",
        "## Author: 張歆侞         ##\n",
        "import math\n",
        "from qiskit import BasicAer ,IBMQ\n",
        "from qiskit import QuantumRegister, ClassicalRegister, QuantumCircuit, execute\n",
        "import matplotlib.pyplot as plt\n",
        "import numpy as np\n",
        "\n",
        "## .............QFT..................................##\n",
        "n=2\n",
        "qr = QuantumRegister(n)\n",
        "cr = ClassicalRegister(n)\n",
        "circuit = QuantumCircuit(qr, cr)\n",
        "#輸入值\n",
        "for i in range(0,1):\n",
        "    k=0\n",
        "    circuit.h(i)\n",
        "    circuit.u1(-math.pi/2**(i-k),i)\n",
        "#circuit.h(qr[2])\n",
        "\n",
        "#QFT\n",
        "for i in range(n):\n",
        "    for k in range(i):\n",
        "        circuit.cu1(math.pi/2**(i-k),i,k)\n",
        "    circuit.h(i)\n",
        "\n",
        "#print(circuit)\n",
        "##........................................................\n",
        "\n",
        "\n",
        "\n",
        "\n",
        "#amplitude\n",
        "#STATEVECTOR\n",
        "backend = BasicAer.get_backend(\"statevector_simulator\")\n",
        "simulate = execute(circuit, backend).result()\n",
        "qc_state=simulate.get_statevector(circuit,decimals=3)\n",
        "print(qc_state)\n",
        "x=['00','01','10','11']\n",
        "# x = ['000','001','010','100','011','101','110','111']\n",
        "# x=['0000','0001','0010','0011','0100','0101','0110','0111','1000','1001','1010','1011','1100','1101','1110','1111']\n",
        "# X=['00000','00001','00010','00011','00100','00101','00110','00111','01000','01001','01010','01011','01100','01101','01110','01111','10000','10001','10010','10011','10100','10101','10110','10111','11000','11001','11010','11011','11100','11101','11110','11111']\n",
        "\n",
        "a=[]#amplitude\n",
        "p=[]#probability\n",
        "for i in range(1):\n",
        "    prob=qc_state.real**2+qc_state.imag**2\n",
        "    a.append(prob**0.5)\n",
        "    p.append(prob*100)\n",
        "print(a[0])#amplitude\n",
        "plt.title('amplitude')\n",
        "plt.bar(x,a[0])\n",
        "plt.show()    \n",
        "print(p[0])#probability\n",
        "plt.title('probability')\n",
        "plt.bar(x,p[0])\n",
        "plt.show() \n",
        "\n",
        "#劃出alpha beta 實數虛數長條圖\n",
        "# a=[]\n",
        "# b=[]\n",
        "# for i in range(1):\n",
        "#     a.append(qc_state.real)\n",
        "#     b.append(qc_state.imag)\n",
        "# plt.bar(x,a[0],align=\"edge\",width=0.35)\n",
        "# plt.bar(x,b[0],align=\"edge\",width=-0.35)\n",
        "# plt.show()\n",
        "\n",
        "\n",
        "\n",
        "#measure\n",
        "for i in range(n):\n",
        "    circuit.measure(i,i)\n",
        "# a breakdown of operations by type\n",
        "print(circuit.count_ops())\n",
        "print(circuit)\n",
        "\n",
        "\n",
        "\n",
        "\n",
        "#probabilities 分配\n",
        "#MEASUREMENT probability\n",
        "backend = BasicAer.get_backend(\"qasm_simulator\")\n",
        "simulate = execute([circuit], backend=backend, shots=100).result() # To execute a circuit for many shots and obtain a histogram of all measurement result# shots=1024, in total we tried 1024 times\n",
        "dict_result =simulate.get_counts(circuit)\n",
        "print(dict_result )\n",
        "data=[]\n",
        "\n",
        "#plot  histogram\n",
        "x=['00','01','10','11']\n",
        "# x = ['000','001','010','100','011','101','110','111']\n",
        "# x=['0000','0001','0010','0011','0100','0101','0110','0111','1000','1001','1010','1011','1100','1101','1110','1111']\n",
        "for i in range(len(x)):\n",
        "    try:\n",
        "        data.append(dict_result[x[i]])\n",
        "    except:\n",
        "        data.append(0)\n",
        "plt.title('as')\n",
        "plt.bar(x, data)\n",
        "plt.show()\n",
        "\n",
        "\n",
        "\n",
        "\n",
        "\n",
        "\n",
        "\n",
        "## .............QFT..................................##\n",
        "# qr = QuantumRegister(n)\n",
        "# cr = ClassicalRegister(n)\n",
        "# circuit = QuantumCircuit(qr, cr)\n",
        "\n",
        "# circuit.h(qr[0])\n",
        "# circuit.u1(-math.pi/1.,qr[0])\n",
        "# circuit.h(qr[1])\n",
        "# circuit.u1(-math.pi/2.,qr[1])\n",
        "# circuit.h(qr[2])\n",
        "# circuit.u1(-math.pi/4.,qr[2])\n",
        "# circuit.barrier()\n",
        "# print(circuit)\n",
        "\n",
        "# circuit.h(qr[0])\n",
        "# circuit.cu1(math.pi/2.,qr[0],qr[1])\n",
        "# circuit.cu1(math.pi/4.,qr[0],qr[2])\n",
        "\n",
        "# circuit.h(qr[1])\n",
        "# circuit.cu1(math.pi/2.,qr[1],qr[2])\n",
        "\n",
        "# circuit.h(qr[2])\n",
        "# circuit.barrier()\n",
        "# ##......................................................."
      ],
      "execution_count": 2,
      "outputs": [
        {
          "output_type": "stream",
          "text": [
            "[0.+0.j    0.+0.707j 0.+0.j    0.+0.707j]\n",
            "[0.    0.707 0.    0.707]\n"
          ],
          "name": "stdout"
        },
        {
          "output_type": "display_data",
          "data": {
            "image/png": "[encoded data removed]",
            "text/plain": [
              "<Figure size 432x288 with 1 Axes>"
            ]
          },
          "metadata": {
            "tags": []
          }
        },
        {
          "output_type": "stream",
          "text": [
            "[ 0.     49.9849  0.     49.9849]\n"
          ],
          "name": "stdout"
        },
        {
          "output_type": "display_data",
          "data": {
            "image/png": "[encoded data removed]",
            "text/plain": [
              "<Figure size 432x288 with 1 Axes>"
            ]
          },
          "metadata": {
            "tags": []
          }
        },
        {
          "output_type": "stream",
          "text": [
            "OrderedDict([('h', 3), ('measure', 2), ('u1', 1), ('cu1', 1)])\n",
            "         ┌───┐┌─────────┐┌───┐       ┌─┐        \n",
            "q1_0: |0>┤ H ├┤ U1(-pi) ├┤ H ├─■─────┤M├────────\n",
            "         └───┘└─────────┘└───┘ │pi/2 └╥┘┌───┐┌─┐\n",
            "q1_1: |0>──────────────────────■──────╫─┤ H ├┤M├\n",
            "                                      ║ └───┘└╥┘\n",
            " c1_0: 0 ═════════════════════════════╩═══════╬═\n",
            "                                              ║ \n",
            " c1_1: 0 ═════════════════════════════════════╩═\n",
            "                                                \n",
            "{'11': 53, '01': 47}\n"
          ],
          "name": "stdout"
        },
        {
          "output_type": "display_data",
          "data": {
            "image/png": "[encoded data removed]",
            "text/plain": [
              "<Figure size 432x288 with 1 Axes>"
            ]
          },
          "metadata": {
            "tags": []
          }
        }
      ]
    }
  ]
}