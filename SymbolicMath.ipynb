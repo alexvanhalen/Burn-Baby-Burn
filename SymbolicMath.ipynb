{
 "cells": [
  {
   "cell_type": "markdown",
   "metadata": {},
   "source": [
    "sympy = Symbolic Python，是Python的一個套件，可以用來執行符號運算(Symbolic Computation)。"
   ]
  },
  {
   "cell_type": "code",
   "execution_count": 10,
   "metadata": {},
   "outputs": [
    {
     "data": {
      "image/png": "[encoded data removed]",
      "text/latex": [
       "$$\\frac{1}{2}$$"
      ],
      "text/plain": [
       "1/2"
      ]
     },
     "execution_count": 10,
     "metadata": {},
     "output_type": "execute_result"
    }
   ],
   "source": [
    "from __future__ import division\n",
    "import sympy\n",
    "from sympy import Symbol, symbols\n",
    "from sympy import *\n",
    "import numpy as np\n",
    "\n",
    "init_printing(use_unicode=True) #寫這一行可以印出漂亮的方程式\n",
    "\n",
    "x, y, z = symbols('x y z', real=True) # 宣告x, y, z為符號，為實數變數。\n",
    "a, c = symbols('a c', nonzero=True, real=True)\n",
    "\n",
    "integrate(x,(x,0,1)) # 將x從零到1積分"
   ]
  },
  {
   "cell_type": "code",
   "execution_count": 11,
   "metadata": {},
   "outputs": [
    {
     "data": {
      "image/png": "[encoded data removed]",
      "text/latex": [
       "$$1.0 a c^{2}$$"
      ],
      "text/plain": [
       "       2\n",
       "1.0⋅a⋅c "
      ]
     },
     "execution_count": 11,
     "metadata": {},
     "output_type": "execute_result"
    }
   ],
   "source": [
    "A = (c*cos((pi*x)/(2.0*a)))**2\n",
    "A.integrate((x,-a,a)) #將A從-a到a積分"
   ]
  },
  {
   "cell_type": "code",
   "execution_count": 8,
   "metadata": {},
   "outputs": [
    {
     "data": {
      "image/png": "[encoded data removed]",
      "text/latex": [
       "$$c^{2} \\cos^{2}{\\left (\\frac{0.5 \\pi}{a} x \\right )}$$"
      ],
      "text/plain": [
       " 2    2⎛0.5⋅π⋅x⎞\n",
       "c ⋅cos ⎜───────⎟\n",
       "       ⎝   a   ⎠"
      ]
     },
     "execution_count": 8,
     "metadata": {},
     "output_type": "execute_result"
    }
   ],
   "source": [
    "A #顯示A如下，可以看出來符號運算跟一般數值運算的差別，可以直接以數學符號來表示一個函數。"
   ]
  },
  {
   "cell_type": "code",
   "execution_count": 7,
   "metadata": {},
   "outputs": [
    {
     "data": {
      "image/png": "[encoded data removed]",
      "text/latex": [
       "$$\\phi$$"
      ],
      "text/plain": [
       "φ"
      ]
     },
     "execution_count": 7,
     "metadata": {},
     "output_type": "execute_result"
    }
   ],
   "source": [
    "f=Symbol('phi')\n",
    "f"
   ]
  },
  {
   "cell_type": "markdown",
   "metadata": {},
   "source": [
    "$1/(x^2+1)$對$x$積分，可以直接以符號計算得到解析解為$\\tan^{-1}x$。"
   ]
  },
  {
   "cell_type": "code",
   "execution_count": 13,
   "metadata": {},
   "outputs": [
    {
     "data": {
      "image/png": "[encoded data removed]",
      "text/latex": [
       "$$\\operatorname{atan}{\\left (x \\right )}$$"
      ],
      "text/plain": [
       "atan(x)"
      ]
     },
     "execution_count": 13,
     "metadata": {},
     "output_type": "execute_result"
    }
   ],
   "source": [
    "integrate(1/(x**2+1),x)"
   ]
  },
  {
   "cell_type": "markdown",
   "metadata": {},
   "source": [
    "也可以對高斯分佈$\\frac{1}{\\sqrt{2\\pi}}\\exp(-x^2)$積分"
   ]
  },
  {
   "cell_type": "code",
   "execution_count": 30,
   "metadata": {},
   "outputs": [
    {
     "data": {
      "image/png": "[encoded data removed]",
      "text/latex": [
       "$$0.25 \\sqrt{2}$$"
      ],
      "text/plain": [
       "0.25⋅√2"
      ]
     },
     "execution_count": 30,
     "metadata": {},
     "output_type": "execute_result"
    }
   ],
   "source": [
    "y2 = 1/sqrt(2*pi)*exp(-x**2)\n",
    "integrate(y2, (x, 0, np.inf))"
   ]
  },
  {
   "cell_type": "markdown",
   "metadata": {},
   "source": [
    "可以利用這種方式，將文章與程式以及方程式寫在一起。可以先想好故事，再把數學問題套進去。數學問題與故事之間邏輯不通會有某種笑果。"
   ]
  }
 ],
 "metadata": {
  "kernelspec": {
   "display_name": "Python 3",
   "language": "python",
   "name": "python3"
  },
  "language_info": {
   "codemirror_mode": {
    "name": "ipython",
    "version": 3
   },
   "file_extension": ".py",
   "mimetype": "text/x-python",
   "name": "python",
   "nbconvert_exporter": "python",
   "pygments_lexer": "ipython3",
   "version": "3.6.3"
  }
 },
 "nbformat": 4,
 "nbformat_minor": 2
}
